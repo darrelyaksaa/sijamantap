{
  "cells": [
    {
      "cell_type": "markdown",
      "metadata": {
        "id": "view-in-github",
        "colab_type": "text"
      },
      "source": [
        "<a href=\"https://colab.research.google.com/github/darrelyaksaa/sijamantap/blob/master/pengenalan%20python%20data%20analytic.ipynb\" target=\"_parent\"><img src=\"https://colab.research.google.com/assets/colab-badge.svg\" alt=\"Open In Colab\"/></a>"
      ]
    },
    {
      "cell_type": "code",
      "source": [
        "a = \"aku\"\n",
        "b = \"darrel\"\n",
        "print(\"nama\", a,b)"
      ],
      "metadata": {
        "colab": {
          "base_uri": "https://localhost:8080/"
        },
        "id": "LOMVSY6bVkjn",
        "outputId": "2511bce5-ae9b-4011-d1b2-af2533b1696d"
      },
      "execution_count": 21,
      "outputs": [
        {
          "output_type": "stream",
          "name": "stdout",
          "text": [
            "nama aku darrel\n"
          ]
        }
      ]
    },
    {
      "cell_type": "code",
      "source": [
        "#variable dan tipe data dasar\n",
        "nama = \"darrel\"\n",
        "umur = 17\n",
        "nilai = 90,4\n",
        "lulus = True\n",
        "\n",
        "print(\"nama:\", nama)\n",
        "print(\"umur:\", umur)\n",
        "print(\"nilai:\", nilai)\n",
        "print(\"status lulus:\", lulus)"
      ],
      "metadata": {
        "colab": {
          "base_uri": "https://localhost:8080/"
        },
        "id": "412adyvRRhI2",
        "outputId": "db378c0b-5395-488a-a2fc-52aefd6e94c6"
      },
      "execution_count": 2,
      "outputs": [
        {
          "output_type": "stream",
          "name": "stdout",
          "text": [
            "nama: darrel\n",
            "umur: 17\n",
            "nilai: (90, 4)\n",
            "status lulus: True\n"
          ]
        }
      ]
    },
    {
      "cell_type": "code",
      "source": [
        "# operasi dasar\n",
        "a = 10\n",
        "b = 5\n",
        "\n",
        "print(\"penjumlahan:\", a + b)\n",
        "print(\"pengurangan:\", a - b)\n",
        "print(\"perkalian:\", a * b)\n",
        "print(\"pembagian:\", a / b)"
      ],
      "metadata": {
        "colab": {
          "base_uri": "https://localhost:8080/"
        },
        "id": "k7xhIZUISckA",
        "outputId": "d6f96d21-3a80-4be8-d7dc-7121a035de31"
      },
      "execution_count": 8,
      "outputs": [
        {
          "output_type": "stream",
          "name": "stdout",
          "text": [
            "penjumlahan: 15\n",
            "pengurangan: 5\n",
            "perkalian: 50\n",
            "pembagian: 2.0\n"
          ]
        }
      ]
    },
    {
      "cell_type": "code",
      "source": [
        "# list menyimpan banyak data\n",
        "nilai_siswa = [80, 85 ,90, 75, 95]\n",
        "\n",
        "print(\"daftar nilai:\", nilai_siswa)\n",
        "print(\"nilai pertama:\", nilai_siswa[0])\n",
        "print(\"rata-rata:\", sum(nilai_siswa)/len(nilai_siswa))"
      ],
      "metadata": {
        "colab": {
          "base_uri": "https://localhost:8080/"
        },
        "id": "rTUOTGP-SccI",
        "outputId": "a18cfe18-2313-44c9-ae70-a59c94f61537"
      },
      "execution_count": 14,
      "outputs": [
        {
          "output_type": "stream",
          "name": "stdout",
          "text": [
            "daftar nilai: [80, 85, 90, 75, 95]\n",
            "nilai pertama: 80\n",
            "rata-rata: 85.0\n"
          ]
        }
      ]
    },
    {
      "cell_type": "code",
      "source": [
        "# dictionary menyimpan pasangan kunci-nilai\n",
        "data_siswa = {\n",
        "    \"nama\": \"darrel\",\n",
        "    \"kelas\": \"XI SIJA A\",\n",
        "    \"nilai\": 89,\n",
        "}\n",
        "\n",
        "print(\"data siswa:\", data_siswa)\n",
        "print(\"nama:\", data_siswa[\"nama\"])\n",
        "print(\"nilai:\", data_siswa[\"nilai\"])"
      ],
      "metadata": {
        "colab": {
          "base_uri": "https://localhost:8080/"
        },
        "id": "WwG42SoKT-Ec",
        "outputId": "0ddb1aef-ac04-4596-b413-c38a22390e0e"
      },
      "execution_count": 19,
      "outputs": [
        {
          "output_type": "stream",
          "name": "stdout",
          "text": [
            "data siswa: {'nama': 'darrel', 'kelas': 'XI SIJA A', 'nilai': 89}\n",
            "nama: darrel\n",
            "nilai: 89\n"
          ]
        }
      ]
    },
    {
      "cell_type": "code",
      "source": [
        "# input dan output sederhana\n",
        "nama = input(\"masukan nama siswa: \")\n",
        "nilai = float(input(\"masukan nilai siswa: \"))\n",
        "\n",
        "print(f\"nama siswa: {nama}, nilainya: {nilai}\")"
      ],
      "metadata": {
        "colab": {
          "base_uri": "https://localhost:8080/"
        },
        "id": "pVgJyuOxVP7W",
        "outputId": "9be25bbb-6afd-4fb8-a4b9-566aadca8960"
      },
      "execution_count": 22,
      "outputs": [
        {
          "output_type": "stream",
          "name": "stdout",
          "text": [
            "masukan nama siswa: darrel\n",
            "masukan nilai siswa: 100\n",
            "nama siswa: darrel, nilainya: 100.0\n"
          ]
        }
      ]
    }
  ],
  "metadata": {
    "colab": {
      "name": "Welcome To Colab",
      "toc_visible": true,
      "provenance": [],
      "include_colab_link": true
    },
    "kernelspec": {
      "display_name": "Python 3",
      "name": "python3"
    }
  },
  "nbformat": 4,
  "nbformat_minor": 0
}